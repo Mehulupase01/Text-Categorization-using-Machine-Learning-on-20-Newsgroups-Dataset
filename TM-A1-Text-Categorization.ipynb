{
 "cells": [
  {
   "cell_type": "markdown",
   "source": [
    "<h3>Task 1 </h3>"
   ],
   "metadata": {
    "collapsed": false
   },
   "id": "3e68b6485fc5b73e"
  },
  {
   "cell_type": "code",
   "execution_count": null,
   "outputs": [],
   "source": [
    "from sklearn.datasets import fetch_20newsgroups\n",
    "newsgroups_data = fetch_20newsgroups(subset='all', shuffle=True, random_state=42)"
   ],
   "metadata": {
    "collapsed": false,
    "ExecuteTime": {
     "end_time": "2023-10-08T18:10:50.462409704Z",
     "start_time": "2023-10-08T18:10:50.461504712Z"
    }
   },
   "id": "76ec8ffdd2b4d24"
  },
  {
   "cell_type": "markdown",
   "source": [
    "<h3> Task 2 </h3>"
   ],
   "metadata": {
    "collapsed": false
   },
   "id": "77289e1da6e740d9"
  },
  {
   "cell_type": "code",
   "execution_count": null,
   "outputs": [],
   "source": [
    "import numpy as np\n",
    "from sklearn.datasets import fetch_20newsgroups\n",
    "from sklearn.model_selection import train_test_split\n",
    "from sklearn.feature_extraction.text import CountVectorizer, TfidfVectorizer\n",
    "from sklearn.naive_bayes import MultinomialNB\n",
    "from sklearn.svm import SVC\n",
    "from sklearn.ensemble import RandomForestClassifier\n",
    "from sklearn.metrics import accuracy_score, classification_report\n",
    "from sklearn.pipeline import Pipeline\n",
    "\n",
    "newsgroups_data = fetch_20newsgroups(subset='all', shuffle=True, random_state=42)\n",
    "X_train, X_test, y_train, y_test = train_test_split(newsgroups_data.data, newsgroups_data.target, test_size=0.2, random_state=42)\n",
    "nb_classifier = MultinomialNB()\n",
    "nb_pipeline = Pipeline([\n",
    "    ('vectorizer', CountVectorizer()),\n",
    "    ('classifier', nb_classifier)\n",
    "])\n",
    "nb_pipeline.fit(X_train, y_train)\n",
    "nb_predictions = nb_pipeline.predict(X_test)\n",
    "\n",
    "svm_classifier = SVC()\n",
    "svm_pipeline = Pipeline([\n",
    "    ('vectorizer', TfidfVectorizer()),\n",
    "    ('classifier', svm_classifier)\n",
    "])\n",
    "svm_pipeline.fit(X_train, y_train)\n",
    "svm_predictions = svm_pipeline.predict(X_test)\n",
    "\n",
    "rf_classifier = RandomForestClassifier()\n",
    "rf_pipeline = Pipeline([\n",
    "    ('vectorizer', TfidfVectorizer()),\n",
    "    ('classifier', rf_classifier)\n",
    "])\n",
    "rf_pipeline.fit(X_train, y_train)\n",
    "rf_predictions = rf_pipeline.predict(X_test)\n",
    "\n",
    "def evaluate_classifier(predictions, classifier_name):\n",
    "    accuracy = accuracy_score(y_test, predictions)\n",
    "    report = classification_report(y_test, predictions, target_names=newsgroups_data.target_names)\n",
    "    print(f\"Accuracy of {classifier_name}: {accuracy:.2f}\")\n",
    "    print(f\"Classification Report for {classifier_name}:\\n{report}\\n\")\n",
    "\n",
    "evaluate_classifier(nb_predictions, \"Naïve Bayes\")\n",
    "evaluate_classifier(svm_predictions, \"SVM\")\n",
    "evaluate_classifier(rf_predictions, \"Random Forest\")\n"
   ],
   "metadata": {
    "collapsed": false,
    "is_executing": true,
    "ExecuteTime": {
     "start_time": "2023-10-10T09:33:34.011200900Z"
    }
   },
   "id": "2b9f2ec85954cbe5"
  },
  {
   "cell_type": "markdown",
   "source": [
    "<h3> Task 3</h3>"
   ],
   "metadata": {
    "collapsed": false
   },
   "id": "4269d1d07952805b"
  },
  {
   "cell_type": "code",
   "execution_count": null,
   "outputs": [],
   "source": [
    "import numpy as np\n",
    "from sklearn.datasets import fetch_20newsgroups\n",
    "from sklearn.model_selection import train_test_split\n",
    "from sklearn.feature_extraction.text import CountVectorizer, TfidfVectorizer\n",
    "from sklearn.naive_bayes import MultinomialNB\n",
    "from sklearn.svm import SVC\n",
    "from sklearn.ensemble import RandomForestClassifier\n",
    "from sklearn.metrics import accuracy_score, classification_report\n",
    "from sklearn.pipeline import Pipeline\n",
    "from concurrent.futures import ThreadPoolExecutor\n",
    "\n",
    "newsgroups_data = fetch_20newsgroups(subset='all', shuffle=True, random_state=42)\n",
    "\n",
    "X_train, X_test, y_train, y_test = train_test_split(newsgroups_data.data, newsgroups_data.target, test_size=0.2, random_state=42)\n",
    "\n",
    "feature_methods = {\n",
    "    'Counts': CountVectorizer(),\n",
    "    'Term Frequency (TF)': TfidfVectorizer(use_idf=False),\n",
    "    'Term Frequency-Inverse Document Frequency (TF-IDF)': TfidfVectorizer(use_idf=True)\n",
    "}\n",
    "\n",
    "classifiers = {\n",
    "    'Naïve Bayes': MultinomialNB(),\n",
    "    'SVM': SVC(),\n",
    "    'Random Forest': RandomForestClassifier()\n",
    "}\n",
    "\n",
    "def train_and_evaluate_classifier(classifier_name, feature_name, classifier, feature_extractor):\n",
    "    pipeline = Pipeline([\n",
    "        ('vectorizer', feature_extractor),\n",
    "        ('classifier', classifier)\n",
    "    ])\n",
    "\n",
    "    pipeline.fit(X_train, y_train)\n",
    "    predictions = pipeline.predict(X_test)\n",
    "\n",
    "    accuracy = accuracy_score(y_test, predictions)\n",
    "    report = classification_report(y_test, predictions, target_names=newsgroups_data.target_names)\n",
    "\n",
    "    print(f\"Using {feature_name} with {classifier_name}:\")\n",
    "    print(f\"Accuracy of {classifier_name}: {accuracy:.2f}\")\n",
    "    print(f\"Classification Report for {classifier_name}:\\n{report}\\n\")\n",
    "\n",
    "with ThreadPoolExecutor(max_workers=8) as executor:\n",
    "    for feature_name, feature_extractor in feature_methods.items():\n",
    "        for classifier_name, classifier in classifiers.items():\n",
    "            executor.submit(train_and_evaluate_classifier, classifier_name, feature_name, classifier, feature_extractor)\n"
   ],
   "metadata": {
    "collapsed": false,
    "is_executing": true
   },
   "id": "7c358a31fec7bff5"
  },
  {
   "cell_type": "markdown",
   "source": [
    "<h3> Task 4</h3>"
   ],
   "metadata": {
    "collapsed": false
   },
   "id": "d41de9783b6810e8"
  },
  {
   "cell_type": "code",
   "execution_count": null,
   "outputs": [],
   "source": [
    "import numpy as np\n",
    "from sklearn.datasets import fetch_20newsgroups\n",
    "from sklearn.model_selection import train_test_split\n",
    "from sklearn.feature_extraction.text import CountVectorizer\n",
    "from sklearn.ensemble import RandomForestClassifier\n",
    "from sklearn.metrics import accuracy_score, classification_report\n",
    "from sklearn.pipeline import Pipeline\n",
    "\n",
    "newsgroups_data = fetch_20newsgroups(subset='all', shuffle=True, random_state=42)\n",
    "\n",
    "X_train, X_test, y_train, y_test = train_test_split(newsgroups_data.data, newsgroups_data.target, test_size=0.2, random_state=42)\n",
    "\n",
    "rf_classifier = RandomForestClassifier()\n",
    "\n",
    "param_grid = [\n",
    "    {\n",
    "        'lowercase': True,\n",
    "        'stop_words': None,\n",
    "        'analyzer': 'word',\n",
    "        'ngram_range': (1, 1),\n",
    "        'max_features': None\n",
    "    },\n",
    "    {\n",
    "        'lowercase': False,\n",
    "        'stop_words': 'english',\n",
    "        'analyzer': 'word',\n",
    "        'ngram_range': (1, 2),\n",
    "        'max_features': 1000\n",
    "    },\n",
    "    {\n",
    "        'lowercase': True,\n",
    "        'stop_words': None,\n",
    "        'analyzer': 'char',\n",
    "        'ngram_range': (1, 2),\n",
    "        'max_features': 5000\n",
    "    }\n",
    "]\n",
    "\n",
    "def fit_classifier_with_params(params):\n",
    "    vectorizer = CountVectorizer(lowercase=params['lowercase'],\n",
    "                                 stop_words=params['stop_words'],\n",
    "                                 analyzer=params['analyzer'],\n",
    "                                 ngram_range=params['ngram_range'],\n",
    "                                 max_features=params['max_features'])\n",
    "\n",
    "    pipeline = Pipeline([\n",
    "        ('vectorizer', vectorizer),\n",
    "        ('classifier', rf_classifier)\n",
    "    ])\n",
    "\n",
    "    pipeline.fit(X_train, y_train)\n",
    "\n",
    "    return pipeline\n",
    "\n",
    "for params in param_grid:\n",
    "    pipeline = fit_classifier_with_params(params)\n",
    "    predictions = pipeline.predict(X_test)\n",
    "\n",
    "    accuracy = accuracy_score(y_test, predictions)\n",
    "    report = classification_report(y_test, predictions, target_names=newsgroups_data.target_names)\n",
    "\n",
    "    print(\"CountVectorizer Parameters:\", params)\n",
    "    print(\"Random Forest Accuracy: {:.2f}\".format(accuracy))\n",
    "    print(\"Classification Report:\\n\", report)\n",
    "    print()\n"
   ],
   "metadata": {
    "collapsed": false,
    "is_executing": true
   },
   "id": "6c9e3a71bc456436"
  }
 ],
 "metadata": {
  "kernelspec": {
   "display_name": "Python 3",
   "language": "python",
   "name": "python3"
  },
  "language_info": {
   "codemirror_mode": {
    "name": "ipython",
    "version": 2
   },
   "file_extension": ".py",
   "mimetype": "text/x-python",
   "name": "python",
   "nbconvert_exporter": "python",
   "pygments_lexer": "ipython2",
   "version": "2.7.6"
  }
 },
 "nbformat": 4,
 "nbformat_minor": 5
}
